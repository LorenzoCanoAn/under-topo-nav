{
 "cells": [
  {
   "cell_type": "code",
   "execution_count": 16,
   "metadata": {},
   "outputs": [],
   "source": [
    "import numpy as np\n",
    "import matplotlib.pyplot as plt"
   ]
  },
  {
   "cell_type": "code",
   "execution_count": 1,
   "metadata": {},
   "outputs": [],
   "source": [
    "with open(\"/home/lorenzo/catkin_ws/src/underground_semantic_navigation_ROS/automatic_testing/scripts/total_results.txt\", \"r\") as f:\n",
    "    original_text = f.read()"
   ]
  },
  {
   "cell_type": "code",
   "execution_count": 8,
   "metadata": {},
   "outputs": [],
   "source": [
    "lines = original_text.split(\"\\n\")\n",
    "list_of_results = []\n",
    "for line in lines:\n",
    "    splitted = line.split(\"||\")\n",
    "    if splitted.__len__() == 4:\n",
    "        success = int(splitted[0].strip() == \"success\")\n",
    "        intersections = int(splitted[2].strip())\n",
    "        obstacles = int(splitted[3].strip())\n",
    "        list_of_results.append((success, intersections, obstacles))"
   ]
  },
  {
   "cell_type": "code",
   "execution_count": 12,
   "metadata": {},
   "outputs": [],
   "source": [
    "def get_ratio_for_tiles_obs(res_list, tiles, obs):\n",
    "    successful = 0\n",
    "    total = 0\n",
    "    for result in res_list:\n",
    "        if result[1] == tiles and result[2] == obs:\n",
    "            successful += result[0]\n",
    "            total += 1\n",
    "    return successful / total\n"
   ]
  },
  {
   "cell_type": "code",
   "execution_count": 51,
   "metadata": {},
   "outputs": [
    {
     "data": {
      "image/png": "[encoded data removed]",
      "text/plain": [
       "<Figure size 360x216 with 1 Axes>"
      ]
     },
     "metadata": {
      "needs_background": "light"
     },
     "output_type": "display_data"
    }
   ],
   "source": [
    "TILES = [2,3,5]\n",
    "OBSTACLES = [0,1]\n",
    "array_to_plot = []\n",
    "for tile in OBSTACLES:\n",
    "    array_to_plot.append([])\n",
    "    for obs in TILES:\n",
    "        array_to_plot[-1].append(get_ratio_for_tiles_obs(list_of_results,obs, tile))\n",
    "\n",
    "indices = np.arange(TILES.__len__())\n",
    "\n",
    "\n",
    "n_groups = 3\n",
    "# create plot\n",
    "fig, ax = plt.subplots()\n",
    "fig.set_size_inches((5,3))\n",
    "index = np.arange(n_groups)\n",
    "bar_width = 0.35\n",
    "opacity = 0.8\n",
    "\n",
    "rects1 = plt.bar(index, array_to_plot[0], bar_width,\n",
    "alpha=opacity,\n",
    "color='b',\n",
    "label='0 obstacles per tile')\n",
    "\n",
    "rects2 = plt.bar(index + bar_width, array_to_plot[1], bar_width,\n",
    "alpha=opacity,\n",
    "color='g',\n",
    "label='1 obstacles per tile')\n",
    "\n",
    "\n",
    "\n",
    "plt.xlabel('Number of intersections',fontsize=10)\n",
    "plt.ylabel('Success Rate',fontsize=10)\n",
    "plt.xticks(index + bar_width/2, ('2', '3','5'),fontsize=10)\n",
    "plt.yticks(fontsize=10)\n",
    "\n",
    "plt.tight_layout()\n",
    "plt.show()"
   ]
  },
  {
   "cell_type": "code",
   "execution_count": null,
   "metadata": {},
   "outputs": [],
   "source": []
  }
 ],
 "metadata": {
  "interpreter": {
   "hash": "916dbcbb3f70747c44a77c7bcd40155683ae19c65e1c03b4aa3499c5328201f1"
  },
  "kernelspec": {
   "display_name": "Python 3.8.10 64-bit",
   "language": "python",
   "name": "python3"
  },
  "language_info": {
   "codemirror_mode": {
    "name": "ipython",
    "version": 3
   },
   "file_extension": ".py",
   "mimetype": "text/x-python",
   "name": "python",
   "nbconvert_exporter": "python",
   "pygments_lexer": "ipython3",
   "version": "3.8.10"
  },
  "orig_nbformat": 4
 },
 "nbformat": 4,
 "nbformat_minor": 2
}
