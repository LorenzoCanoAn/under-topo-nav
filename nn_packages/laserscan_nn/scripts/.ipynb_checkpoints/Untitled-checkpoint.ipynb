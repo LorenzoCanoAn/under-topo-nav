{
 "cells": [
  {
   "cell_type": "code",
   "execution_count": 1,
   "id": "7d54f75d",
   "metadata": {},
   "outputs": [],
   "source": [
    "import torch\n",
    "import torch.utils.data as data_utils\n",
    "import pandas as pd\n",
    "import numpy as np\n",
    "\n",
    "import os\n",
    "from torch import nn\n",
    "\n",
    "import matplotlib.pyplot as plt "
   ]
  },
  {
   "cell_type": "code",
   "execution_count": 2,
   "id": "2ad00c6f",
   "metadata": {},
   "outputs": [],
   "source": [
    "if torch.cuda.is_available():\n",
    "    torch.device('cuda:0')\n",
    "else:\n",
    "    torch.device('cpu')"
   ]
  },
  {
   "cell_type": "code",
   "execution_count": 3,
   "id": "3e18d773",
   "metadata": {},
   "outputs": [],
   "source": [
    "# DEFINE INPUT VARIABLES\n",
    "PATH_TO_DATAFRAME = \"/home/lorenzo/catkin_ws/src/laser_data_collector/scripts/dataset.csv\"\n",
    "PATH_TO_SAVE_MODEL = \"/home/lorenzo/catkin_ws/src/laser_nn/scripts/nn_1\" \n",
    "MAX_RANGE = 40\n",
    "BATCH_SIZE = 32"
   ]
  },
  {
   "cell_type": "code",
   "execution_count": 4,
   "id": "0f0ba3c0",
   "metadata": {},
   "outputs": [],
   "source": [
    "def read_and_clean_dataset(PATH_TO_DATAFRAME, MAX_RANGE, batch_size = 64):\n",
    "    complete_dataframe = pd.read_csv(PATH_TO_DATAFRAME) # read dataset\n",
    "    complete_dataframe.replace([np.inf],MAX_RANGE,inplace=True) # substitute infinites of dataset\n",
    "    complete_dataframe = complete_dataframe.iloc[1:,1:]\n",
    "    \n",
    "    train_dataframe  = complete_dataframe.iloc[:,1:]\n",
    "    target_dataframe = complete_dataframe.iloc[:,0]\n",
    "    \n",
    "    train_tensor  = torch.tensor(train_dataframe.values.astype(np.float32))\n",
    "    target_tensor = torch.tensor(target_dataframe.values.astype(np.int64)) \n",
    "    \n",
    "    \n",
    "    train_tensor = data_utils.TensorDataset(train_tensor, target_tensor) \n",
    "    train_loader = data_utils.DataLoader(dataset = train_tensor, batch_size = batch_size, shuffle = True)\n",
    "    return train_loader"
   ]
  },
  {
   "cell_type": "code",
   "execution_count": 5,
   "id": "4e4fe6a6",
   "metadata": {},
   "outputs": [],
   "source": [
    "train_loader = read_and_clean_dataset(PATH_TO_DATAFRAME,MAX_RANGE, BATCH_SIZE)\n",
    "classes = ('tunnel', 'intersection')"
   ]
  },
  {
   "cell_type": "code",
   "execution_count": 6,
   "id": "cd6cdab1",
   "metadata": {},
   "outputs": [],
   "source": [
    "# DEFINE NN\n",
    "class intersection_detector(nn.Module):\n",
    "    def __init__(self):\n",
    "        super(intersection_detector, self).__init__()\n",
    "        self.linear_relu_stack = nn.Sequential(\n",
    "            nn.Linear(723, 723*2),\n",
    "            nn.ReLU(),\n",
    "            nn.Linear(723*2, 723*2),\n",
    "            nn.Sigmoid(),\n",
    "            nn.Linear(723*2, 2),\n",
    "            nn.Softmax()\n",
    "        )\n",
    "\n",
    "    def forward(self, x):\n",
    "        logits = self.linear_relu_stack(x)\n",
    "        return logits\n",
    "net = intersection_detector()"
   ]
  },
  {
   "cell_type": "code",
   "execution_count": 7,
   "id": "0d7dae83",
   "metadata": {},
   "outputs": [],
   "source": [
    "import torch.optim as optim\n",
    "\n",
    "criterion = nn.CrossEntropyLoss()\n",
    "optimizer = optim.SGD(net.parameters(), lr=0.001, momentum=0.9)"
   ]
  },
  {
   "cell_type": "code",
   "execution_count": 8,
   "id": "12d97212",
   "metadata": {},
   "outputs": [
    {
     "name": "stderr",
     "output_type": "stream",
     "text": [
      "/home/lorenzo/programs/anaconda3/lib/python3.8/site-packages/torch/nn/modules/container.py:139: UserWarning: Implicit dimension choice for softmax has been deprecated. Change the call to include dim=X as an argument.\n",
      "  input = module(input)\n"
     ]
    },
    {
     "name": "stdout",
     "output_type": "stream",
     "text": [
      "Finished Training\n"
     ]
    },
    {
     "data": {
      "image/png": "[encoded data removed]",
      "text/plain": [
       "<Figure size 432x288 with 1 Axes>"
      ]
     },
     "metadata": {
      "needs_background": "light"
     },
     "output_type": "display_data"
    },
    {
     "ename": "NameError",
     "evalue": "name 'model' is not defined",
     "output_type": "error",
     "traceback": [
      "\u001b[0;31m---------------------------------------------------------------------------\u001b[0m",
      "\u001b[0;31mNameError\u001b[0m                                 Traceback (most recent call last)",
      "\u001b[0;32m<ipython-input-8-d5108bcf2f96>\u001b[0m in \u001b[0;36m<module>\u001b[0;34m\u001b[0m\n\u001b[1;32m     29\u001b[0m \u001b[0mplt\u001b[0m\u001b[0;34m.\u001b[0m\u001b[0mplot\u001b[0m\u001b[0;34m(\u001b[0m\u001b[0mloss_history\u001b[0m\u001b[0;34m)\u001b[0m\u001b[0;34m\u001b[0m\u001b[0;34m\u001b[0m\u001b[0m\n\u001b[1;32m     30\u001b[0m \u001b[0mplt\u001b[0m\u001b[0;34m.\u001b[0m\u001b[0mshow\u001b[0m\u001b[0;34m(\u001b[0m\u001b[0;34m)\u001b[0m\u001b[0;34m\u001b[0m\u001b[0;34m\u001b[0m\u001b[0m\n\u001b[0;32m---> 31\u001b[0;31m \u001b[0mtorch\u001b[0m\u001b[0;34m.\u001b[0m\u001b[0msave\u001b[0m\u001b[0;34m(\u001b[0m\u001b[0mmodel\u001b[0m\u001b[0;34m.\u001b[0m\u001b[0mstate_dict\u001b[0m\u001b[0;34m(\u001b[0m\u001b[0;34m)\u001b[0m\u001b[0;34m,\u001b[0m \u001b[0mPATH\u001b[0m\u001b[0;34m)\u001b[0m\u001b[0;34m\u001b[0m\u001b[0;34m\u001b[0m\u001b[0m\n\u001b[0m",
      "\u001b[0;31mNameError\u001b[0m: name 'model' is not defined"
     ]
    }
   ],
   "source": [
    "loss_history = []\n",
    "for epoch in range(4):  # loop over the dataset multiple times\n",
    "\n",
    "    running_loss = 0.0\n",
    "    for i, data in enumerate(train_loader, 0):\n",
    "        # get the inputs; data is a list of [inputs, labels]\n",
    "        inputs, labels = data\n",
    "\n",
    "\n",
    "        # zero the parameter gradients\n",
    "        optimizer.zero_grad()\n",
    "\n",
    "        # forward + backward + optimize\n",
    "        outputs = net(inputs)\n",
    "        loss = criterion(outputs, labels)\n",
    "        loss.backward()\n",
    "        optimizer.step()\n",
    "        \n",
    "        loss_history.append(loss.item())\n",
    "        \n",
    "        # print statistics\n",
    "        running_loss += loss.item()\n",
    "        if i % 2000 == 1999:    # print every 2000 mini-batches\n",
    "            print('[%d, %5d] loss: %.3f' %\n",
    "                  (epoch + 1, i + 1, running_loss / 2000))\n",
    "            running_loss = 0.0\n",
    "\n",
    "print('Finished Training')\n",
    "plt.plot(loss_history)\n",
    "plt.show()\n",
    "torch.save(net.state_dict(), PATH)"
   ]
  }
 ],
 "metadata": {
  "kernelspec": {
   "display_name": "Python 3",
   "language": "python",
   "name": "python3"
  },
  "language_info": {
   "codemirror_mode": {
    "name": "ipython",
    "version": 3
   },
   "file_extension": ".py",
   "mimetype": "text/x-python",
   "name": "python",
   "nbconvert_exporter": "python",
   "pygments_lexer": "ipython3",
   "version": "3.8.8"
  }
 },
 "nbformat": 4,
 "nbformat_minor": 5
}
