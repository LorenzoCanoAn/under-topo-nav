{
 "cells": [
  {
   "cell_type": "code",
   "execution_count": 1,
   "id": "fe773ce5",
   "metadata": {},
   "outputs": [
    {
     "name": "stdout",
     "output_type": "stream",
     "text": [
      "----------------------------------------------------------------\n",
      "        Layer (type)               Output Shape         Param #\n",
      "================================================================\n",
      "            Conv2d-1           [-1, 16, 46, 46]             416\n",
      "              ReLU-2           [-1, 16, 46, 46]               0\n",
      "         MaxPool2d-3           [-1, 16, 22, 22]               0\n",
      "            Conv2d-4           [-1, 32, 18, 18]          12,832\n",
      "              ReLU-5           [-1, 32, 18, 18]               0\n",
      "         MaxPool2d-6             [-1, 32, 8, 8]               0\n",
      "           Flatten-7                 [-1, 2048]               0\n",
      "            Linear-8                 [-1, 2048]       4,196,352\n",
      "              ReLU-9                 [-1, 2048]               0\n",
      "           Linear-10                 [-1, 1024]       2,098,176\n",
      "             ReLU-11                 [-1, 1024]               0\n",
      "           Linear-12                  [-1, 512]         524,800\n",
      "             ReLU-13                  [-1, 512]               0\n",
      "           Linear-14                    [-1, 5]           2,565\n",
      "================================================================\n",
      "Total params: 6,835,141\n",
      "Trainable params: 6,835,141\n",
      "Non-trainable params: 0\n",
      "----------------------------------------------------------------\n",
      "Input size (MB): 0.01\n",
      "Forward/backward pass size (MB): 0.82\n",
      "Params size (MB): 26.07\n",
      "Estimated Total Size (MB): 26.90\n",
      "----------------------------------------------------------------\n"
     ]
    }
   ],
   "source": [
    "import torch\n",
    "import torch.utils.data as data_utils\n",
    "import pandas as pd\n",
    "import numpy as np\n",
    "from torchsummary import summary\n",
    "import os\n",
    "from torch import nn\n",
    "import matplotlib.pyplot as plt\n",
    "\n",
    "from nn_class_definitions import *\n",
    "NET = conv_v2\n",
    "import matplotlib.pyplot as plt\n",
    "device = torch.device(\"cuda:0\" if torch.cuda.is_available() else \"cpu\")\n",
    "net = NET().to(device)\n",
    "summary(net,(50,50,1))"
   ]
  },
  {
   "cell_type": "code",
   "execution_count": 2,
   "id": "5606d4fe",
   "metadata": {},
   "outputs": [],
   "source": [
    "# DEFINE INPUT VARIABLES\n",
    "PATH_TO_DATAFRAME = \"/home/lorenzo/catkin_ws/src/laser_data_collector/scripts/dataset.csv\"\n",
    "MAX_RANGE = 15\n",
    "BATCH_SIZE = 32\n",
    "N_EPOCHS = 20"
   ]
  },
  {
   "cell_type": "code",
   "execution_count": 3,
   "id": "2f497436",
   "metadata": {},
   "outputs": [],
   "source": [
    "def from_laser_scan_to_image(laser_scan):\n",
    "    imgsize = 25\n",
    "    laser_increment = 0.0087 #rad\n",
    "    ang_start = -3.14159\n",
    "    angle = ang_start - laser_increment\n",
    "    image = np.zeros((imgsize*2,imgsize*2))\n",
    "    for _range in (laser_scan):\n",
    "        angle += laser_increment\n",
    "        x = int((np.cos(angle + np.pi/2)*_range)/MAX_RANGE*imgsize)\n",
    "        y = int((np.sin(angle + np.pi/2)*_range)/MAX_RANGE*imgsize)\n",
    "        i = imgsize*2-(y+imgsize)\n",
    "        j = x+imgsize\n",
    "        image[i,j ]+=1\n",
    "    image[imgsize,imgsize] = 0\n",
    "    return (image>0)*1.0\n",
    "def laser_tensor_to_image_tensor(laser_tensor):\n",
    "    laser_numpy = laser_tensor.cpu().numpy()\n",
    "    images = []\n",
    "    for i in range(laser_numpy.shape[0]):\n",
    "        images.append(from_laser_scan_to_image(laser_numpy[i,:]))\n",
    "    images = np.array(images)\n",
    "    images_tensor = torch.tensor(images).float().to(device)\n",
    "    return images_tensor\n",
    "    "
   ]
  },
  {
   "cell_type": "code",
   "execution_count": 4,
   "id": "f3b28d51",
   "metadata": {},
   "outputs": [],
   "source": [
    "def read_and_clean_dataset(PATH_TO_DATAFRAME):\n",
    "    complete_dataframe = pd.read_csv(PATH_TO_DATAFRAME) # read dataset\n",
    "    complete_dataframe.replace([np.inf],0,inplace=True) # substitute infinites of dataset\n",
    "    complete_dataframe = complete_dataframe.iloc[1:,1:]\n",
    "    \n",
    "    train_dataframe  = complete_dataframe.iloc[:,1:]\n",
    "    target_dataframe = complete_dataframe.iloc[:,0]\n",
    "    \n",
    "    train_tensor  = torch.tensor(train_dataframe.values.astype(np.float32)).to(device)\n",
    "    target_tensor = torch.tensor(target_dataframe.values.astype(np.int64)) .to(device)\n",
    "    \n",
    "    train_tensor = laser_tensor_to_image_tensor(train_tensor)\n",
    "    \n",
    "    n_train = int(train_tensor.shape[0]*0.9)\n",
    "    n_test = train_tensor.shape[0] - n_train\n",
    "    \n",
    "    complete_dataset = data_utils.TensorDataset(train_tensor, target_tensor)\n",
    "    train_dataset, test_dataset = data_utils.random_split(complete_dataset, [n_train, n_test])\n",
    "    print(train_dataset.dataset.tensors[0].shape)\n",
    "    print(test_dataset.dataset.tensors[0].shape)\n",
    "    return train_dataset, test_dataset"
   ]
  },
  {
   "cell_type": "code",
   "execution_count": 5,
   "id": "ad8a1096",
   "metadata": {},
   "outputs": [
    {
     "name": "stdout",
     "output_type": "stream",
     "text": [
      "torch.Size([22499, 50, 50])\n",
      "torch.Size([22499, 50, 50])\n"
     ]
    }
   ],
   "source": [
    "train_dataset, test_dataset = read_and_clean_dataset(PATH_TO_DATAFRAME)\n",
    "classes = (\"t\", \"intersection\", \"curve\", \"rect\", \"block\")"
   ]
  },
  {
   "cell_type": "code",
   "execution_count": 6,
   "id": "ce7da689",
   "metadata": {},
   "outputs": [],
   "source": [
    "train_dataloader = data_utils.DataLoader(train_dataset, batch_size = BATCH_SIZE)\n",
    "test_dataloader = data_utils.DataLoader(test_dataset, batch_size = test_dataset.indices.__len__())"
   ]
  },
  {
   "cell_type": "code",
   "execution_count": 7,
   "id": "01c1091c",
   "metadata": {},
   "outputs": [],
   "source": [
    "def basic_train(network,data_loader, criterion, optimizer, n_epochs):\n",
    "    loss_history = []\n",
    "    for epoch in range(n_epochs):  # loop over the dataset multiple times\n",
    "        for i, data in enumerate(data_loader, 0):\n",
    "            # get the inputs; data is a list of [inputs, labels]\n",
    "            inputs, labels = data\n",
    "            # zero the parameter gradients\n",
    "            optimizer.zero_grad()\n",
    "\n",
    "            # forward + backward + optimize\n",
    "            outputs = net(inputs)\n",
    "            loss = criterion(outputs, labels)\n",
    "            loss.backward()\n",
    "            optimizer.step()\n",
    "\n",
    "            loss_history.append(loss.item())\n",
    "    \n",
    "    \n",
    "    plt.plot(loss_history)\n",
    "    plt.show()\n",
    "    return loss_history\n",
    "\n",
    "def test_net(net, test_loader):\n",
    "    for i, data in enumerate(test_loader, 0):\n",
    "        \n",
    "        inputs, labels = data\n",
    "        outputs = net(inputs)\n",
    "                \n",
    "        loss = criterion(outputs, labels)\n",
    "\n",
    "        output = outputs.float().detach().cpu().numpy()\n",
    "        labels_ = np.argmax(output,axis=1)\n",
    "        labels = labels.int().cpu().numpy()\n",
    "        correct = np.sum(labels_ == labels)\n",
    "        print(\"Loss: {:.3f}, Accuracy: {:.3f}\".format(loss.item(), correct/output.shape[0]))\n"
   ]
  },
  {
   "cell_type": "code",
   "execution_count": 8,
   "id": "22f7ed0c",
   "metadata": {},
   "outputs": [
    {
     "name": "stdout",
     "output_type": "stream",
     "text": [
      "lr: 0.0001\n"
     ]
    },
    {
     "data": {
      "image/png": "[encoded data removed]",
      "text/plain": [
       "<Figure size 432x288 with 1 Axes>"
      ]
     },
     "metadata": {
      "needs_background": "light"
     },
     "output_type": "display_data"
    },
    {
     "name": "stdout",
     "output_type": "stream",
     "text": [
      "Loss: 1.208, Accuracy: 0.929\n",
      "lr: 0.0005\n"
     ]
    },
    {
     "data": {
      "image/png": "[encoded data removed]",
      "text/plain": [
       "<Figure size 432x288 with 1 Axes>"
      ]
     },
     "metadata": {
      "needs_background": "light"
     },
     "output_type": "display_data"
    },
    {
     "name": "stdout",
     "output_type": "stream",
     "text": [
      "Loss: 2.046, Accuracy: 0.938\n",
      "lr: 0.001\n"
     ]
    },
    {
     "data": {
      "image/png": "[encoded data removed]",
      "text/plain": [
       "<Figure size 432x288 with 1 Axes>"
      ]
     },
     "metadata": {
      "needs_background": "light"
     },
     "output_type": "display_data"
    },
    {
     "name": "stdout",
     "output_type": "stream",
     "text": [
      "Loss: 3.274, Accuracy: 0.933\n",
      "lr: 0.005\n"
     ]
    },
    {
     "data": {
      "image/png": "[encoded data removed]",
      "text/plain": [
       "<Figure size 432x288 with 1 Axes>"
      ]
     },
     "metadata": {
      "needs_background": "light"
     },
     "output_type": "display_data"
    },
    {
     "name": "stdout",
     "output_type": "stream",
     "text": [
      "Loss: 1.501, Accuracy: 0.315\n",
      "lr: 0.01\n"
     ]
    },
    {
     "data": {
      "image/png": "[encoded data removed]",
      "text/plain": [
       "<Figure size 432x288 with 1 Axes>"
      ]
     },
     "metadata": {
      "needs_background": "light"
     },
     "output_type": "display_data"
    },
    {
     "name": "stdout",
     "output_type": "stream",
     "text": [
      "Loss: 1.502, Accuracy: 0.315\n",
      "lr: 0.05\n"
     ]
    },
    {
     "data": {
      "image/png": "[encoded data removed]",
      "text/plain": [
       "<Figure size 432x288 with 1 Axes>"
      ]
     },
     "metadata": {
      "needs_background": "light"
     },
     "output_type": "display_data"
    },
    {
     "name": "stdout",
     "output_type": "stream",
     "text": [
      "Loss: 1.503, Accuracy: 0.315\n"
     ]
    }
   ],
   "source": [
    "import torch.optim as optim\n",
    "\n",
    "LR = [0.0001,0.0005, 0.001, 0.005, 0.01, 0.05]\n",
    "criterion = nn.CrossEntropyLoss()\n",
    "losses_list = []\n",
    "for lr in LR:\n",
    "    print(\"lr: {}\".format(lr))\n",
    "    net = NET()\n",
    "    net = net.to(device).float()\n",
    "    optimizer = optim.Adam(net.parameters(),lr=lr,)\n",
    "    loss_hist = basic_train(net,train_dataloader, criterion, optimizer, N_EPOCHS)\n",
    "    test_net(net, test_dataloader)\n",
    "    \n",
    "l_min = (30,0,0,0)\n",
    "for l in losses_list:\n",
    "    if l[0] < l_min[0]:\n",
    "        l_min = l\n"
   ]
  }
 ],
 "metadata": {
  "kernelspec": {
   "display_name": "Python 3",
   "language": "python",
   "name": "python3"
  },
  "language_info": {
   "codemirror_mode": {
    "name": "ipython",
    "version": 3
   },
   "file_extension": ".py",
   "mimetype": "text/x-python",
   "name": "python",
   "nbconvert_exporter": "python",
   "pygments_lexer": "ipython3",
   "version": "3.8.8"
  }
 },
 "nbformat": 4,
 "nbformat_minor": 5
}
