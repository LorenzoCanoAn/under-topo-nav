{
 "cells": [
  {
   "cell_type": "markdown",
   "metadata": {},
   "source": [
    "## Imports"
   ]
  },
  {
   "cell_type": "code",
   "execution_count": 1,
   "metadata": {},
   "outputs": [
    {
     "name": "stdout",
     "output_type": "stream",
     "text": [
      "----------------------------------------------------------------\n",
      "        Layer (type)               Output Shape         Param #\n",
      "================================================================\n",
      "            Conv1d-1               [-1, 4, 704]              84\n",
      "              ReLU-2               [-1, 4, 704]               0\n",
      "         MaxPool1d-3               [-1, 4, 140]               0\n",
      "            Conv1d-4               [-1, 8, 121]             648\n",
      "              ReLU-5               [-1, 8, 121]               0\n",
      "         MaxPool1d-6                [-1, 8, 24]               0\n",
      "           Flatten-7                  [-1, 192]               0\n",
      "            Linear-8                  [-1, 384]          74,112\n",
      "              ReLU-9                  [-1, 384]               0\n",
      "           Linear-10                  [-1, 192]          73,920\n",
      "             ReLU-11                  [-1, 192]               0\n",
      "           Linear-12                    [-1, 5]             965\n",
      "================================================================\n",
      "Total params: 149,729\n",
      "Trainable params: 149,729\n",
      "Non-trainable params: 0\n",
      "----------------------------------------------------------------\n",
      "Input size (MB): 0.00\n",
      "Forward/backward pass size (MB): 0.07\n",
      "Params size (MB): 0.57\n",
      "Estimated Total Size (MB): 0.65\n",
      "----------------------------------------------------------------\n"
     ]
    }
   ],
   "source": [
    "import torch\n",
    "import torch.utils.data as data_utils\n",
    "import pandas as pd\n",
    "import numpy as np\n",
    "from torchsummary import summary\n",
    "import os\n",
    "from torch import nn\n",
    "import matplotlib.pyplot as plt\n",
    "import torch.optim as optim\n",
    "import scipy.ndimage\n",
    "\n",
    "torch.cuda.empty_cache()\n",
    "\n",
    "\n",
    "from nn_class_definitions import *\n",
    "NET = conv_v1\n",
    "import matplotlib.pyplot as plt\n",
    "device = torch.device(\"cuda:0\" if torch.cuda.is_available() else \"cpu\")\n",
    "net = NET().to(device)\n",
    "summary(net,(723,1))"
   ]
  },
  {
   "cell_type": "markdown",
   "metadata": {},
   "source": [
    "## Data"
   ]
  },
  {
   "cell_type": "markdown",
   "metadata": {},
   "source": [
    "### Defs"
   ]
  },
  {
   "cell_type": "code",
   "execution_count": 2,
   "metadata": {},
   "outputs": [],
   "source": [
    "def from_laser_scan_to_image(laser_scan, max_range = 15):\n",
    "    imgsize = 16\n",
    "    laser_increment = 0.0087 #rad\n",
    "    ang_start = -3.14159\n",
    "    angle = ang_start - laser_increment\n",
    "    image = np.zeros((imgsize*2,imgsize*2))\n",
    "    for _range in (laser_scan):\n",
    "        angle += laser_increment\n",
    "        x = int((np.cos(angle + np.pi/2)*_range)/max_range*imgsize)\n",
    "        y = int((np.sin(angle + np.pi/2)*_range)/max_range*imgsize)\n",
    "        if int(np.math.sqrt(x*x + y*y))+1>= int(max_range):\n",
    "            continue\n",
    "        i = imgsize*2-(y+imgsize)\n",
    "        j = x+imgsize\n",
    "        image[i,j ]+=1\n",
    "    image[imgsize,imgsize] = 0\n",
    "    return (image>0)*1.0\n",
    "\n",
    "    \n",
    "def laser_tensor_to_image_tensor(laser_tensor, max_range = 15):\n",
    "    if laser_tensor.shape.__len__() == 1:\n",
    "        laser_tensor = torch.reshape(laser_tensor, [1,laser_tensor.shape[0]])\n",
    "    laser_numpy = laser_tensor.cpu().numpy()\n",
    "    images = []\n",
    "    for i in range(laser_numpy.shape[0]):\n",
    "        print(\"\\r\",end=\"\")\n",
    "        print(i,end=\"\")\n",
    "        images.append(from_laser_scan_to_image(laser_numpy[i,:],max_range))\n",
    "    images = np.array(images)\n",
    "    images_tensor = torch.tensor(images).float().to(device)\n",
    "    return images_tensor\n",
    "    "
   ]
  },
  {
   "cell_type": "code",
   "execution_count": 3,
   "metadata": {},
   "outputs": [],
   "source": [
    "def read_and_clean_dataset_csv(PATH_TO_DATAFRAME, image_net = False, max_range = 15):\n",
    "    complete_dataframe = pd.read_csv(PATH_TO_DATAFRAME) # read dataset\n",
    "    if image_net:\n",
    "        complete_dataframe.replace([np.inf],0,inplace=True) # substitute infinites of dataset\n",
    "    else:\n",
    "        complete_dataframe.replace([np.inf],max_range,inplace=True)\n",
    "        \n",
    "    complete_dataframe = complete_dataframe.iloc[1:,1:]\n",
    "    \n",
    "    train_dataframe  = complete_dataframe.iloc[:,1:]\n",
    "    target_dataframe = complete_dataframe.iloc[:,0]\n",
    "    \n",
    "    train_tensor  = torch.tensor(train_dataframe.values.astype(np.float32)).to(device)\n",
    "    target_tensor = torch.tensor(target_dataframe.values.astype(np.int64)) .to(device)\n",
    "\n",
    "    if image_net:\n",
    "        train_tensor = laser_tensor_to_image_tensor(train_tensor, max_range)\n",
    "    \n",
    "    n_train = int(train_tensor.shape[0]*0.9)\n",
    "    n_test = train_tensor.shape[0] - n_train\n",
    "    \n",
    "    complete_dataset = data_utils.TensorDataset(train_tensor, target_tensor)\n",
    "    train_dataset, test_dataset = data_utils.random_split(complete_dataset, [n_train, n_test])\n",
    "    return train_dataset, test_dataset\n",
    "\n",
    "class LaserScanDataset(data_utils.Dataset):\n",
    "    def __init__(self, path_to_dataset, is_image, max_range = 15):\n",
    "        self.device = torch.device(\"cuda:0\" if torch.cuda.is_available() else \"cpu\")\n",
    "        self.folder = path_to_dataset\n",
    "        self.dir_elements = os.listdir(path_to_dataset)\n",
    "        self.len = self.dir_elements.__len__()\n",
    "        self.is_image = is_image\n",
    "        for idx in range(self.len):\n",
    "            print(\"\\r\",end=\"\")\n",
    "            print(idx,end=\"\")\n",
    "            img_path = os.path.join(self.folder, \"{}.pt\".format(idx))\n",
    "            x, y = torch.load(img_path)\n",
    "            y = y.long()\n",
    "            x = x.cpu().detach().numpy()\n",
    "            x = np.where(x > max_range, max_range, x)\n",
    "            x = scipy.ndimage.median_filter(x,size=5)\n",
    "            x = torch.Tensor(x)\n",
    "            if idx == 0:\n",
    "                s = x.shape\n",
    "                self.data = torch.zeros((self.len,s[0])).float()\n",
    "                s = y.shape\n",
    "                self.labels = torch.zeros((self.len)).long()\n",
    "\n",
    "            self.data[idx,...] = x\n",
    "            self.labels[idx,...] = y\n",
    "\n",
    "        if is_image:\n",
    "            self.data = laser_tensor_to_image_tensor(self.data,max_range=max_range)\n",
    "\n",
    "\n",
    "    def __len__(self):\n",
    "        return self.len\n",
    "\n",
    "    def __getitem__(self, idx):\n",
    "        return self.data[idx,...], self.labels[idx,...]\n",
    "        #return (x.to(self.device),y.to(self.device))\n",
    "\n",
    "    def show(self, idx):\n",
    "        x, y = self.data[idx,...], self.labels[idx,...]\n",
    "        data = x.cpu().detach().numpy()\n",
    "        y = y.cpu().detach().numpy()\n",
    "        print(\"\\n{}\".format(y))\n",
    "        fig, axs = plt.subplots(1)\n",
    "        if self.is_image:\n",
    "            plt.imshow(data)\n",
    "        else:\n",
    "            axs.plot(data)\n",
    "        plt.show()\n",
    "\n",
    "\n"
   ]
  },
  {
   "cell_type": "markdown",
   "metadata": {},
   "source": [
    "### Load"
   ]
  },
  {
   "cell_type": "code",
   "execution_count": 4,
   "metadata": {},
   "outputs": [
    {
     "name": "stdout",
     "output_type": "stream",
     "text": [
      "89726"
     ]
    }
   ],
   "source": [
    "# DEFINE INPUT VARIABLE\n",
    "PATH_TO_DATASET = \"/home/lorenzo/Datasets/environment_classification/trial_with_segments\"\n",
    "MAX_RANGE = 15\n",
    "with torch.no_grad():\n",
    "    dataset = LaserScanDataset(PATH_TO_DATASET,net.is_2d(), 15)\n",
    "classes = (\"t\", \"intersection\", \"curve\", \"rect\", \"block\")"
   ]
  },
  {
   "cell_type": "code",
   "execution_count": 5,
   "metadata": {},
   "outputs": [
    {
     "name": "stdout",
     "output_type": "stream",
     "text": [
      "\n",
      "4\n"
     ]
    },
    {
     "data": {
      "image/png": "[encoded data removed]",
      "text/plain": [
       "<Figure size 432x288 with 1 Axes>"
      ]
     },
     "metadata": {
      "needs_background": "light"
     },
     "output_type": "display_data"
    }
   ],
   "source": [
    "for i in range(dataset.__len__()):\n",
    "    x, y = dataset.__getitem__(i)\n",
    "    if y == 4:\n",
    "        dataset.show(i)\n",
    "        break\n",
    "        \n",
    "        \n"
   ]
  },
  {
   "cell_type": "markdown",
   "metadata": {},
   "source": [
    "## Train"
   ]
  },
  {
   "cell_type": "markdown",
   "metadata": {},
   "source": [
    "### Definitions"
   ]
  },
  {
   "cell_type": "code",
   "execution_count": 6,
   "metadata": {},
   "outputs": [],
   "source": [
    "def basic_train(network, data_loader, criterion, optimizer, n_epochs, is_images = True):\n",
    "    loss_history = []\n",
    "    for epoch in range(n_epochs):  # loop over the dataset multiple times\n",
    "        print(\"\\r\",end=\"\")\n",
    "        print(\"epoch {} of {}\".format(epoch,n_epochs),end=\"\")\n",
    "        dataloader_iterator = enumerate(data_loader, 0)\n",
    "        n_batchs = len(list(dataloader_iterator))\n",
    "        dataloader_iterator = enumerate(data_loader, 0)\n",
    "        for i, data in dataloader_iterator:\n",
    "            # get the inputs; data is a list of [inputs, labels]\n",
    "            inputs, labels = data\n",
    "            inputs = inputs.to(device)\n",
    "            labels = labels.to(device)\n",
    "            # zero the parameter gradients\n",
    "            optimizer.zero_grad()\n",
    "\n",
    "            # forward + backward + optimize\n",
    "            outputs = net(inputs)\n",
    "            loss = criterion(outputs, labels)\n",
    "            loss.backward()\n",
    "            optimizer.step()\n",
    "\n",
    "            loss_history.append(loss.item())\n",
    "    \n",
    "\n",
    "\n",
    "    plt.plot(loss_history)\n",
    "    plt.show()\n",
    "    return loss_history\n",
    "\n",
    "def test_net(net, test_loader):\n",
    "    for i, data in enumerate(test_loader, 0):\n",
    "        \n",
    "        inputs, labels = data\n",
    "        inputs = inputs.to(device)\n",
    "        labels = labels.to(device)\n",
    "        # zero the parameter gradients\n",
    "        optimizer.zero_grad()\n",
    "\n",
    "        # forward + backward + optimize\n",
    "        outputs = net(inputs)     \n",
    "        loss = criterion(outputs, labels)\n",
    "        output = outputs.float().detach().cpu().numpy()\n",
    "        labels_ = np.argmax(output,axis=1)\n",
    "        labels = labels.int().cpu().numpy()\n",
    "        correct = np.sum(labels_ == labels)\n",
    "        accuracy = correct/output.shape[0]\n",
    "        print(\"Loss: {:.3f}, Accuracy: {:.3f}\".format(loss.item(), accuracy))\n",
    "        return accuracy"
   ]
  },
  {
   "cell_type": "markdown",
   "metadata": {},
   "source": [
    "### Run Training"
   ]
  },
  {
   "cell_type": "code",
   "execution_count": 7,
   "metadata": {},
   "outputs": [
    {
     "name": "stdout",
     "output_type": "stream",
     "text": [
      "lr: 0.001\n",
      "epoch 123 of 124"
     ]
    },
    {
     "data": {
      "image/png": "[encoded data removed]",
      "text/plain": [
       "<Figure size 432x288 with 1 Axes>"
      ]
     },
     "metadata": {
      "needs_background": "light"
     },
     "output_type": "display_data"
    },
    {
     "name": "stdout",
     "output_type": "stream",
     "text": [
      "Loss: 0.052, Accuracy: 0.977\n"
     ]
    }
   ],
   "source": [
    "LR = [0.001]#, 0.00009, 0.00005]\n",
    "BATCH_SIZE = 128*4\n",
    "N_EPOCHS = 124\n",
    "\n",
    "train_dataloader = data_utils.DataLoader(dataset, batch_size = BATCH_SIZE, shuffle=True)\n",
    "test_dataloader = data_utils.DataLoader(dataset, batch_size = dataset.__len__(), shuffle=True)\n",
    "criterion = nn.CrossEntropyLoss()\n",
    "losses_list = []\n",
    "#net = NET()\n",
    "#net = net.to(device).float()\n",
    "for lr in LR:\n",
    "    torch.cuda.empty_cache()\n",
    "    print(\"lr: {}\".format(lr))\n",
    "    optimizer = optim.Adam(net.parameters(),lr=lr,)\n",
    "    loss_hist = basic_train(net,train_dataloader, criterion, optimizer, N_EPOCHS)\n",
    "    accuracy = test_net(net, train_dataloader)\n",
    "    \n",
    "l_min = (30,0,0,0)\n",
    "for l in losses_list:\n",
    "    if l[0] < l_min[0]:\n",
    "        l_min = l\n"
   ]
  },
  {
   "cell_type": "code",
   "execution_count": 8,
   "metadata": {},
   "outputs": [
    {
     "name": "stdout",
     "output_type": "stream",
     "text": [
      "Loss: 0.059, Accuracy: 0.976\n",
      "0.9763671875\n"
     ]
    }
   ],
   "source": [
    "test_dataloader = data_utils.DataLoader(dataset, batch_size = BATCH_SIZE*10, shuffle=True)\n",
    "accuracy = test_net(net, test_dataloader)\n",
    "print(accuracy)"
   ]
  },
  {
   "cell_type": "code",
   "execution_count": 9,
   "metadata": {},
   "outputs": [
    {
     "name": "stdout",
     "output_type": "stream",
     "text": [
      "/home/lorenzo/catkin_ws/src/lorenzo/laser_scan_nn/trained_nets/conv_v1__acc0.9763671875\n"
     ]
    }
   ],
   "source": [
    "from datetime import datetime\n",
    "\n",
    "now = datetime.now()\n",
    "NN_PATH = \"/home/lorenzo/catkin_ws/src/lorenzo/laser_scan_nn/trained_nets/{}__acc{}\".format(NET.__name__,accuracy)\n",
    "print(NN_PATH)\n",
    "torch.save(net.state_dict(), NN_PATH)"
   ]
  },
  {
   "cell_type": "code",
   "execution_count": null,
   "id": "a227a96d",
   "metadata": {},
   "outputs": [],
   "source": []
  },
  {
   "cell_type": "markdown",
   "metadata": {},
   "source": [
    "# TEST NET"
   ]
  },
  {
   "cell_type": "code",
   "execution_count": 10,
   "metadata": {},
   "outputs": [
    {
     "ename": "RuntimeError",
     "evalue": "Error(s) in loading state_dict for conv_v1:\n\tUnexpected key(s) in state_dict: \"linear_relu_stack.13.weight\", \"linear_relu_stack.13.bias\". \n\tsize mismatch for linear_relu_stack.0.weight: copying a param with shape torch.Size([16, 1, 5, 5]) from checkpoint, the shape in current model is torch.Size([4, 1, 20]).\n\tsize mismatch for linear_relu_stack.0.bias: copying a param with shape torch.Size([16]) from checkpoint, the shape in current model is torch.Size([4]).\n\tsize mismatch for linear_relu_stack.3.weight: copying a param with shape torch.Size([32, 16, 5, 5]) from checkpoint, the shape in current model is torch.Size([8, 4, 20]).\n\tsize mismatch for linear_relu_stack.3.bias: copying a param with shape torch.Size([32]) from checkpoint, the shape in current model is torch.Size([8]).\n\tsize mismatch for linear_relu_stack.7.weight: copying a param with shape torch.Size([512, 512]) from checkpoint, the shape in current model is torch.Size([384, 192]).\n\tsize mismatch for linear_relu_stack.7.bias: copying a param with shape torch.Size([512]) from checkpoint, the shape in current model is torch.Size([384]).\n\tsize mismatch for linear_relu_stack.9.weight: copying a param with shape torch.Size([256, 512]) from checkpoint, the shape in current model is torch.Size([192, 384]).\n\tsize mismatch for linear_relu_stack.9.bias: copying a param with shape torch.Size([256]) from checkpoint, the shape in current model is torch.Size([192]).\n\tsize mismatch for linear_relu_stack.11.weight: copying a param with shape torch.Size([128, 256]) from checkpoint, the shape in current model is torch.Size([5, 192]).\n\tsize mismatch for linear_relu_stack.11.bias: copying a param with shape torch.Size([128]) from checkpoint, the shape in current model is torch.Size([5]).",
     "output_type": "error",
     "traceback": [
      "\u001b[0;31m---------------------------------------------------------------------------\u001b[0m",
      "\u001b[0;31mRuntimeError\u001b[0m                              Traceback (most recent call last)",
      "\u001b[0;32m/tmp/ipykernel_8040/1898487988.py\u001b[0m in \u001b[0;36m<module>\u001b[0;34m\u001b[0m\n\u001b[1;32m      1\u001b[0m \u001b[0mtest_net\u001b[0m \u001b[0;34m=\u001b[0m \u001b[0mNET\u001b[0m\u001b[0;34m(\u001b[0m\u001b[0;34m)\u001b[0m\u001b[0;34m\u001b[0m\u001b[0;34m\u001b[0m\u001b[0m\n\u001b[0;32m----> 2\u001b[0;31m \u001b[0mtest_net\u001b[0m\u001b[0;34m.\u001b[0m\u001b[0mload_state_dict\u001b[0m\u001b[0;34m(\u001b[0m\u001b[0mtorch\u001b[0m\u001b[0;34m.\u001b[0m\u001b[0mload\u001b[0m\u001b[0;34m(\u001b[0m\u001b[0;34m\"/home/lorenzo/catkin_ws/src/lorenzo/laser_scan_nn/trained_nets/conv_v2_acc1.0\"\u001b[0m\u001b[0;34m)\u001b[0m\u001b[0;34m)\u001b[0m\u001b[0;34m\u001b[0m\u001b[0;34m\u001b[0m\u001b[0m\n\u001b[0m\u001b[1;32m      3\u001b[0m \u001b[0mtest_net\u001b[0m\u001b[0;34m.\u001b[0m\u001b[0meval\u001b[0m\u001b[0;34m(\u001b[0m\u001b[0;34m)\u001b[0m\u001b[0;34m\u001b[0m\u001b[0;34m\u001b[0m\u001b[0m\n\u001b[1;32m      4\u001b[0m \u001b[0mtest_net\u001b[0m \u001b[0;34m=\u001b[0m \u001b[0mtest_net\u001b[0m\u001b[0;34m.\u001b[0m\u001b[0mto\u001b[0m\u001b[0;34m(\u001b[0m\u001b[0mdevice\u001b[0m\u001b[0;34m)\u001b[0m\u001b[0;34m\u001b[0m\u001b[0;34m\u001b[0m\u001b[0m\n\u001b[1;32m      5\u001b[0m \u001b[0mlabels\u001b[0m \u001b[0;34m=\u001b[0m \u001b[0;34m(\u001b[0m\u001b[0;34m\"t\"\u001b[0m\u001b[0;34m,\u001b[0m \u001b[0;34m\"intersection\"\u001b[0m\u001b[0;34m,\u001b[0m \u001b[0;34m\"curve\"\u001b[0m\u001b[0;34m,\u001b[0m \u001b[0;34m\"rect\"\u001b[0m\u001b[0;34m,\u001b[0m \u001b[0;34m\"block\"\u001b[0m\u001b[0;34m)\u001b[0m\u001b[0;34m\u001b[0m\u001b[0;34m\u001b[0m\u001b[0m\n",
      "\u001b[0;32m~/.local/lib/python3.8/site-packages/torch/nn/modules/module.py\u001b[0m in \u001b[0;36mload_state_dict\u001b[0;34m(self, state_dict, strict)\u001b[0m\n\u001b[1;32m   1404\u001b[0m \u001b[0;34m\u001b[0m\u001b[0m\n\u001b[1;32m   1405\u001b[0m         \u001b[0;32mif\u001b[0m \u001b[0mlen\u001b[0m\u001b[0;34m(\u001b[0m\u001b[0merror_msgs\u001b[0m\u001b[0;34m)\u001b[0m \u001b[0;34m>\u001b[0m \u001b[0;36m0\u001b[0m\u001b[0;34m:\u001b[0m\u001b[0;34m\u001b[0m\u001b[0;34m\u001b[0m\u001b[0m\n\u001b[0;32m-> 1406\u001b[0;31m             raise RuntimeError('Error(s) in loading state_dict for {}:\\n\\t{}'.format(\n\u001b[0m\u001b[1;32m   1407\u001b[0m                                self.__class__.__name__, \"\\n\\t\".join(error_msgs)))\n\u001b[1;32m   1408\u001b[0m         \u001b[0;32mreturn\u001b[0m \u001b[0m_IncompatibleKeys\u001b[0m\u001b[0;34m(\u001b[0m\u001b[0mmissing_keys\u001b[0m\u001b[0;34m,\u001b[0m \u001b[0munexpected_keys\u001b[0m\u001b[0;34m)\u001b[0m\u001b[0;34m\u001b[0m\u001b[0;34m\u001b[0m\u001b[0m\n",
      "\u001b[0;31mRuntimeError\u001b[0m: Error(s) in loading state_dict for conv_v1:\n\tUnexpected key(s) in state_dict: \"linear_relu_stack.13.weight\", \"linear_relu_stack.13.bias\". \n\tsize mismatch for linear_relu_stack.0.weight: copying a param with shape torch.Size([16, 1, 5, 5]) from checkpoint, the shape in current model is torch.Size([4, 1, 20]).\n\tsize mismatch for linear_relu_stack.0.bias: copying a param with shape torch.Size([16]) from checkpoint, the shape in current model is torch.Size([4]).\n\tsize mismatch for linear_relu_stack.3.weight: copying a param with shape torch.Size([32, 16, 5, 5]) from checkpoint, the shape in current model is torch.Size([8, 4, 20]).\n\tsize mismatch for linear_relu_stack.3.bias: copying a param with shape torch.Size([32]) from checkpoint, the shape in current model is torch.Size([8]).\n\tsize mismatch for linear_relu_stack.7.weight: copying a param with shape torch.Size([512, 512]) from checkpoint, the shape in current model is torch.Size([384, 192]).\n\tsize mismatch for linear_relu_stack.7.bias: copying a param with shape torch.Size([512]) from checkpoint, the shape in current model is torch.Size([384]).\n\tsize mismatch for linear_relu_stack.9.weight: copying a param with shape torch.Size([256, 512]) from checkpoint, the shape in current model is torch.Size([192, 384]).\n\tsize mismatch for linear_relu_stack.9.bias: copying a param with shape torch.Size([256]) from checkpoint, the shape in current model is torch.Size([192]).\n\tsize mismatch for linear_relu_stack.11.weight: copying a param with shape torch.Size([128, 256]) from checkpoint, the shape in current model is torch.Size([5, 192]).\n\tsize mismatch for linear_relu_stack.11.bias: copying a param with shape torch.Size([128]) from checkpoint, the shape in current model is torch.Size([5])."
     ]
    }
   ],
   "source": [
    "test_net = NET()\n",
    "test_net.load_state_dict(torch.load(\"/home/lorenzo/catkin_ws/src/lorenzo/laser_scan_nn/trained_nets/conv_v2_acc1.0\"))\n",
    "test_net.eval()\n",
    "test_net = test_net.to(device)\n",
    "labels = (\"t\", \"intersection\", \"curve\", \"rect\", \"block\")\n",
    "test_net = net"
   ]
  },
  {
   "cell_type": "code",
   "execution_count": null,
   "metadata": {},
   "outputs": [
    {
     "name": "stdout",
     "output_type": "stream",
     "text": [
      "8115\n"
     ]
    },
    {
     "ename": "IndexError",
     "evalue": "tuple index out of range",
     "output_type": "error",
     "traceback": [
      "\u001b[0;31m---------------------------------------------------------------------------\u001b[0m",
      "\u001b[0;31mIndexError\u001b[0m                                Traceback (most recent call last)",
      "\u001b[0;32m/tmp/ipykernel_930372/2708223244.py\u001b[0m in \u001b[0;36m<module>\u001b[0;34m\u001b[0m\n\u001b[1;32m      4\u001b[0m     \u001b[0mx\u001b[0m\u001b[0;34m,\u001b[0m \u001b[0my\u001b[0m \u001b[0;34m=\u001b[0m \u001b[0mdataset\u001b[0m\u001b[0;34m.\u001b[0m\u001b[0m__getitem__\u001b[0m\u001b[0;34m(\u001b[0m\u001b[0mi\u001b[0m\u001b[0;34m)\u001b[0m\u001b[0;34m\u001b[0m\u001b[0;34m\u001b[0m\u001b[0m\n\u001b[1;32m      5\u001b[0m     \u001b[0ms\u001b[0m \u001b[0;34m=\u001b[0m \u001b[0mx\u001b[0m\u001b[0;34m.\u001b[0m\u001b[0mshape\u001b[0m\u001b[0;34m\u001b[0m\u001b[0;34m\u001b[0m\u001b[0m\n\u001b[0;32m----> 6\u001b[0;31m     \u001b[0mx\u001b[0m \u001b[0;34m=\u001b[0m \u001b[0mtorch\u001b[0m\u001b[0;34m.\u001b[0m\u001b[0mreshape\u001b[0m\u001b[0;34m(\u001b[0m\u001b[0mx\u001b[0m\u001b[0;34m,\u001b[0m \u001b[0;34m[\u001b[0m\u001b[0;36m1\u001b[0m\u001b[0;34m,\u001b[0m\u001b[0ms\u001b[0m\u001b[0;34m[\u001b[0m\u001b[0;36m0\u001b[0m\u001b[0;34m]\u001b[0m\u001b[0;34m,\u001b[0m\u001b[0ms\u001b[0m\u001b[0;34m[\u001b[0m\u001b[0;36m1\u001b[0m\u001b[0;34m]\u001b[0m\u001b[0;34m]\u001b[0m\u001b[0;34m)\u001b[0m\u001b[0;34m\u001b[0m\u001b[0;34m\u001b[0m\u001b[0m\n\u001b[0m\u001b[1;32m      7\u001b[0m     \u001b[0mtest_net\u001b[0m\u001b[0;34m\u001b[0m\u001b[0;34m\u001b[0m\u001b[0m\n\u001b[1;32m      8\u001b[0m     \u001b[0;32mif\u001b[0m \u001b[0my\u001b[0m \u001b[0;34m==\u001b[0m \u001b[0;36m4\u001b[0m\u001b[0;34m:\u001b[0m\u001b[0;34m\u001b[0m\u001b[0;34m\u001b[0m\u001b[0m\n",
      "\u001b[0;31mIndexError\u001b[0m: tuple index out of range"
     ]
    }
   ],
   "source": [
    "n=0\n",
    "print(dataset.__len__())\n",
    "for i in range(dataset.__len__()):\n",
    "    x, y = dataset.__getitem__(i)\n",
    "    s = x.shape\n",
    "    x = torch.reshape(x, [1,s[0],s[1]])\n",
    "    test_net\n",
    "    if y == 4:\n",
    "        dataset.show(i)\n",
    "        label = test_net(x.to(device))\n",
    "        print(label)\n"
   ]
  }
 ],
 "metadata": {
  "interpreter": {
   "hash": "916dbcbb3f70747c44a77c7bcd40155683ae19c65e1c03b4aa3499c5328201f1"
  },
  "kernelspec": {
   "display_name": "Python 3.8.10 64-bit",
   "name": "python3"
  },
  "language_info": {
   "codemirror_mode": {
    "name": "ipython",
    "version": 3
   },
   "file_extension": ".py",
   "mimetype": "text/x-python",
   "name": "python",
   "nbconvert_exporter": "python",
   "pygments_lexer": "ipython3",
   "version": "3.8.10"
  }
 },
 "nbformat": 4,
 "nbformat_minor": 5
}
